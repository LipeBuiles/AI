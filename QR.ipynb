{
  "nbformat": 4,
  "nbformat_minor": 0,
  "metadata": {
    "colab": {
      "name": "Untitled3.ipynb",
      "provenance": [],
      "authorship_tag": "ABX9TyP0tvjBjjYL/gerJRydK/EQ",
      "include_colab_link": true
    },
    "kernelspec": {
      "name": "python3",
      "display_name": "Python 3"
    }
  },
  "cells": [
    {
      "cell_type": "markdown",
      "metadata": {
        "id": "view-in-github",
        "colab_type": "text"
      },
      "source": [
        "<a href=\"https://colab.research.google.com/github/elpinchepastel/AI/blob/master/QR.ipynb\" target=\"_parent\"><img src=\"https://colab.research.google.com/assets/colab-badge.svg\" alt=\"Open In Colab\"/></a>"
      ]
    },
    {
      "cell_type": "code",
      "metadata": {
        "colab": {
          "base_uri": "https://localhost:8080/"
        },
        "id": "9kMzz-UWaE8P",
        "outputId": "bd57bdc2-4874-463c-ca86-9f1f995c390d"
      },
      "source": [
        "!pip install pyqrcode\r\n",
        "!pip install pypng\r\n",
        "import png\r\n",
        "import pyqrcode \r\n",
        "from pyqrcode import QRCode "
      ],
      "execution_count": 1,
      "outputs": [
        {
          "output_type": "stream",
          "text": [
            "Requirement already satisfied: pyqrcode in /usr/local/lib/python3.7/dist-packages (1.2.1)\n",
            "Requirement already satisfied: pypng in /usr/local/lib/python3.7/dist-packages (0.0.20)\n"
          ],
          "name": "stdout"
        }
      ]
    },
    {
      "cell_type": "code",
      "metadata": {
        "colab": {
          "base_uri": "https://localhost:8080/"
        },
        "id": "NbuewFFoaHHS",
        "outputId": "0d59bd68-e485-4465-815a-e857a64b1721"
      },
      "source": [
        "# String which represent the QR code \r\n",
        "## s = \"https://www.twitch.tv/skarmori369\"\r\n",
        "print(\"Ingrese la URL a la cual requiere generar el QR\")\r\n",
        "s = input()"
      ],
      "execution_count": 9,
      "outputs": [
        {
          "output_type": "stream",
          "text": [
            "Ingrese la URL a la cual requiere generar el QR\n",
            "https://xd.adobe.com/view/280f7b27-686f-4c1c-91c9-1f1d5141ba82-7d5c/screen/fc22f2f0-cff2-42fa-8ebb-682bf4bca3b9/\n"
          ],
          "name": "stdout"
        }
      ]
    },
    {
      "cell_type": "code",
      "metadata": {
        "id": "TisSpIqWaW72"
      },
      "source": [
        "# Generate QR code \r\n",
        "url = pyqrcode.create(s)"
      ],
      "execution_count": 10,
      "outputs": []
    },
    {
      "cell_type": "code",
      "metadata": {
        "id": "_Wf4X_OUb2qR"
      },
      "source": [
        "# Create and save the png file naming \".png\" \r\n",
        "url.png(\"QR.png\", scale = 9) "
      ],
      "execution_count": 13,
      "outputs": []
    },
    {
      "cell_type": "code",
      "metadata": {
        "colab": {
          "base_uri": "https://localhost:8080/",
          "height": 602
        },
        "id": "eWJjUl8jkRRm",
        "outputId": "f9a779c8-91ab-470d-ac24-cf2eeac62c82"
      },
      "source": [
        "from IPython.display import Image\r\n",
        "Image(\"/content/QR.png\")"
      ],
      "execution_count": 14,
      "outputs": [
        {
          "output_type": "execute_result",
          "data": {
            "image/png": "[encoded data removed]",
            "text/plain": [
              "<IPython.core.display.Image object>"
            ]
          },
          "metadata": {
            "tags": []
          },
          "execution_count": 14
        }
      ]
    }
  ]
}
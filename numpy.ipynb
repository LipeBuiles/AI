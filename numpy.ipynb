{
 "cells": [
  {
   "cell_type": "code",
   "execution_count": 1,
   "metadata": {},
   "outputs": [],
   "source": [
    "import numpy as np"
   ]
  },
  {
   "cell_type": "code",
   "execution_count": 2,
   "metadata": {},
   "outputs": [
    {
     "output_type": "execute_result",
     "data": {
      "text/plain": "array([[0, 1, 2],\n       [3, 4, 5],\n       [6, 7, 8]])"
     },
     "metadata": {},
     "execution_count": 2
    }
   ],
   "source": [
    "array = np.array([[0,1,2],[3,4,5],[6,7,8]])\n",
    "array"
   ]
  },
  {
   "cell_type": "code",
   "execution_count": 3,
   "metadata": {},
   "outputs": [
    {
     "output_type": "execute_result",
     "data": {
      "text/plain": "2"
     },
     "metadata": {},
     "execution_count": 3
    }
   ],
   "source": [
    "# Dimensiones para un array\n",
    "array.ndim"
   ]
  },
  {
   "cell_type": "code",
   "execution_count": 4,
   "metadata": {},
   "outputs": [
    {
     "output_type": "execute_result",
     "data": {
      "text/plain": "(3, 3)"
     },
     "metadata": {},
     "execution_count": 4
    }
   ],
   "source": [
    "# Número de filas y columnas para un array\n",
    "array.shape "
   ]
  },
  {
   "cell_type": "code",
   "execution_count": 5,
   "metadata": {},
   "outputs": [
    {
     "output_type": "execute_result",
     "data": {
      "text/plain": "'int32'"
     },
     "metadata": {},
     "execution_count": 5
    }
   ],
   "source": [
    "# Tipo para un array\n",
    "array.dtype.name"
   ]
  },
  {
   "cell_type": "code",
   "execution_count": 6,
   "metadata": {},
   "outputs": [
    {
     "output_type": "execute_result",
     "data": {
      "text/plain": "array([-1, -1, -1, -1])"
     },
     "metadata": {},
     "execution_count": 6
    }
   ],
   "source": [
    "# Suma o resta entre array\n",
    "a = np.array([1,3,5,7])\n",
    "b = np.array([2,4,6,8])\n",
    "a-b"
   ]
  },
  {
   "cell_type": "code",
   "execution_count": 7,
   "metadata": {},
   "outputs": [
    {
     "output_type": "execute_result",
     "data": {
      "text/plain": "array([ 3,  7, 11, 15])"
     },
     "metadata": {},
     "execution_count": 7
    }
   ],
   "source": [
    "a+b"
   ]
  },
  {
   "cell_type": "code",
   "execution_count": 8,
   "metadata": {},
   "outputs": [
    {
     "output_type": "execute_result",
     "data": {
      "text/plain": "array([ 4, 16, 36, 64], dtype=int32)"
     },
     "metadata": {},
     "execution_count": 8
    }
   ],
   "source": [
    "# Potencia para un array\n",
    "b**2"
   ]
  },
  {
   "cell_type": "code",
   "execution_count": 9,
   "metadata": {},
   "outputs": [
    {
     "output_type": "execute_result",
     "data": {
      "text/plain": "array([ 4, 16, 36, 64], dtype=int32)"
     },
     "metadata": {},
     "execution_count": 9
    }
   ],
   "source": [
    "np.square(b)"
   ]
  },
  {
   "cell_type": "code",
   "execution_count": 10,
   "metadata": {},
   "outputs": [
    {
     "output_type": "execute_result",
     "data": {
      "text/plain": "array([ 0.84147098,  0.14112001, -0.95892427,  0.6569866 ])"
     },
     "metadata": {},
     "execution_count": 10
    }
   ],
   "source": [
    "# Operaciones trigonometricas para un array\n",
    "np.sin(a)"
   ]
  },
  {
   "cell_type": "code",
   "execution_count": 11,
   "metadata": {},
   "outputs": [
    {
     "output_type": "execute_result",
     "data": {
      "text/plain": "array([False,  True,  True,  True])"
     },
     "metadata": {},
     "execution_count": 11
    }
   ],
   "source": [
    "# Operaciones condiciones para un array\n",
    "a>1"
   ]
  },
  {
   "cell_type": "code",
   "execution_count": 12,
   "metadata": {},
   "outputs": [
    {
     "output_type": "execute_result",
     "data": {
      "text/plain": "array([[ 0,  7, 12],\n       [15, 16, 15],\n       [12,  7,  0]])"
     },
     "metadata": {},
     "execution_count": 12
    }
   ],
   "source": [
    "# Multiplicación de matrices\n",
    "m1 = np.array([[0,1,2],[3,4,5],[6,7,8]])\n",
    "m2 = np.array([[8,7,6],[5,4,3],[2,1,0]])\n",
    "m1*m2"
   ]
  },
  {
   "cell_type": "code",
   "execution_count": 13,
   "metadata": {},
   "outputs": [
    {
     "output_type": "execute_result",
     "data": {
      "text/plain": "array([[ 9,  6,  3],\n       [54, 42, 30],\n       [99, 78, 57]])"
     },
     "metadata": {},
     "execution_count": 13
    }
   ],
   "source": [
    "# Producto punto entre matrices\n",
    "np.dot(m1,m2)"
   ]
  },
  {
   "cell_type": "code",
   "execution_count": 14,
   "metadata": {},
   "outputs": [
    {
     "output_type": "execute_result",
     "data": {
      "text/plain": "array([1.2, 3.1, nan, 4.2])"
     },
     "metadata": {},
     "execution_count": 14
    }
   ],
   "source": [
    "# Incluir valores nulos en array\n",
    "array = np.array([1.2, 3.1, np.nan, 4.2])\n",
    "array"
   ]
  },
  {
   "cell_type": "code",
   "execution_count": 15,
   "metadata": {},
   "outputs": [
    {
     "output_type": "execute_result",
     "data": {
      "text/plain": "array([1.2, 3.1, 5.5, 4.2])"
     },
     "metadata": {},
     "execution_count": 15
    }
   ],
   "source": [
    "# Remplazo de valores nulos en el array\n",
    "array[np.isnan(array)] = 5.5\n",
    "array"
   ]
  },
  {
   "cell_type": "code",
   "execution_count": 16,
   "metadata": {},
   "outputs": [
    {
     "output_type": "execute_result",
     "data": {
      "text/plain": "array([1.2, 3.1, 5.5, 4.2])"
     },
     "metadata": {},
     "execution_count": 16
    }
   ],
   "source": [
    "# Convertir lista en un array\n",
    "list = [1.2, 3.1, 5.5, 4.2]\n",
    "array = np.array(list)\n",
    "array"
   ]
  },
  {
   "cell_type": "code",
   "execution_count": 17,
   "metadata": {},
   "outputs": [
    {
     "output_type": "stream",
     "name": "stdout",
     "text": "Mediana = 3.5\nMedia = 3.6500000000000004\nRango (Max-Min = 4.3\nDesviación estandar = 1.5763882770434445\n80th percentil = 4.720000000000001\n0.3 quartil = 2.9099999999999997\n"
    }
   ],
   "source": [
    "# Medidas estadisticas\n",
    "print(\"Mediana =\", array.mean())\n",
    "print(\"Media =\", np.median(array))\n",
    "print(\"Rango (Max-Min =\", np.ptp(array))\n",
    "print(\"Desviación estandar =\", array.std())\n",
    "print(\"80th percentil =\", np.percentile(array, 80))\n",
    "print(\"0.3 quartil =\", np.quantile(array, 0.3))"
   ]
  },
  {
   "cell_type": "code",
   "execution_count": 18,
   "metadata": {},
   "outputs": [
    {
     "output_type": "execute_result",
     "data": {
      "text/plain": "4"
     },
     "metadata": {},
     "execution_count": 18
    }
   ],
   "source": [
    "# Indices de datos en un matriz\n",
    "a = np.array([[0,1,2],[3,4,5],[6,7,8]])\n",
    "a[1,1]"
   ]
  },
  {
   "cell_type": "code",
   "execution_count": 19,
   "metadata": {},
   "outputs": [
    {
     "output_type": "execute_result",
     "data": {
      "text/plain": "array([3, 4, 5])"
     },
     "metadata": {},
     "execution_count": 19
    }
   ],
   "source": [
    "a[1,:]"
   ]
  },
  {
   "cell_type": "code",
   "execution_count": 20,
   "metadata": {},
   "outputs": [
    {
     "output_type": "execute_result",
     "data": {
      "text/plain": "array([0, 3, 6])"
     },
     "metadata": {},
     "execution_count": 20
    }
   ],
   "source": [
    "a[:,0]"
   ]
  },
  {
   "cell_type": "code",
   "execution_count": 21,
   "metadata": {},
   "outputs": [
    {
     "output_type": "execute_result",
     "data": {
      "text/plain": "array([2, 5, 8])"
     },
     "metadata": {},
     "execution_count": 21
    }
   ],
   "source": [
    "a[:,-1] # ultima columna"
   ]
  },
  {
   "cell_type": "code",
   "execution_count": 22,
   "metadata": {},
   "outputs": [
    {
     "output_type": "execute_result",
     "data": {
      "text/plain": "array([0, 1, 2, 3, 4, 5, 6, 7, 8])"
     },
     "metadata": {},
     "execution_count": 22
    }
   ],
   "source": [
    "# Convertir una matriz en array\n",
    "a.ravel()"
   ]
  },
  {
   "cell_type": "code",
   "execution_count": 23,
   "metadata": {},
   "outputs": [
    {
     "output_type": "execute_result",
     "data": {
      "text/plain": "array([[0],\n       [1],\n       [2],\n       [3],\n       [4],\n       [5],\n       [6],\n       [7],\n       [8]])"
     },
     "metadata": {},
     "execution_count": 23
    }
   ],
   "source": [
    "a.shape = (9,1)\n",
    "a"
   ]
  },
  {
   "cell_type": "code",
   "execution_count": 24,
   "metadata": {},
   "outputs": [
    {
     "output_type": "execute_result",
     "data": {
      "text/plain": "array([[0, 1, 2, 3, 4, 5, 6, 7, 8]])"
     },
     "metadata": {},
     "execution_count": 24
    }
   ],
   "source": [
    "a.transpose()\n"
   ]
  },
  {
   "cell_type": "code",
   "execution_count": 25,
   "metadata": {},
   "outputs": [
    {
     "output_type": "execute_result",
     "data": {
      "text/plain": "array([0.        , 0.05263158, 0.10526316, 0.15789474, 0.21052632,\n       0.26315789, 0.31578947, 0.36842105, 0.42105263, 0.47368421,\n       0.52631579, 0.57894737, 0.63157895, 0.68421053, 0.73684211,\n       0.78947368, 0.84210526, 0.89473684, 0.94736842, 1.        ])"
     },
     "metadata": {},
     "execution_count": 25
    }
   ],
   "source": [
    "c = np.linspace(0,1,20)\n",
    "c"
   ]
  },
  {
   "cell_type": "code",
   "execution_count": 26,
   "metadata": {},
   "outputs": [
    {
     "output_type": "execute_result",
     "data": {
      "text/plain": "(9,)"
     },
     "metadata": {},
     "execution_count": 26
    }
   ],
   "source": [
    "x1 = np.array([1,2,3,4,5,6,7,8,9])\n",
    "x1.shape"
   ]
  },
  {
   "cell_type": "code",
   "execution_count": 27,
   "metadata": {},
   "outputs": [
    {
     "output_type": "execute_result",
     "data": {
      "text/plain": "array([[1],\n       [2],\n       [3],\n       [4],\n       [5],\n       [6],\n       [7],\n       [8],\n       [9]])"
     },
     "metadata": {},
     "execution_count": 27
    }
   ],
   "source": [
    "x2 = x1[:, np.newaxis]\n",
    "x2"
   ]
  },
  {
   "cell_type": "code",
   "execution_count": 28,
   "metadata": {},
   "outputs": [
    {
     "output_type": "execute_result",
     "data": {
      "text/plain": "(9, 1)"
     },
     "metadata": {},
     "execution_count": 28
    }
   ],
   "source": [
    "x2.shape"
   ]
  },
  {
   "cell_type": "code",
   "execution_count": 29,
   "metadata": {},
   "outputs": [
    {
     "output_type": "execute_result",
     "data": {
      "text/plain": "array([[11, 12, 13],\n       [12, 13, 14],\n       [13, 14, 15],\n       [14, 15, 16],\n       [15, 16, 17],\n       [16, 17, 18],\n       [17, 18, 19],\n       [18, 19, 20],\n       [19, 20, 21]])"
     },
     "metadata": {},
     "execution_count": 29
    }
   ],
   "source": [
    "x3 = np.array([10,11,12])\n",
    "x4 = x2 + x3\n",
    "x4"
   ]
  },
  {
   "cell_type": "code",
   "execution_count": 30,
   "metadata": {},
   "outputs": [
    {
     "output_type": "execute_result",
     "data": {
      "text/plain": "array([[12],\n       [13],\n       [14],\n       [15],\n       [16],\n       [17],\n       [18],\n       [19],\n       [20]])"
     },
     "metadata": {},
     "execution_count": 30
    }
   ],
   "source": [
    "x5 = x4[:,np.newaxis,1]\n",
    "x5"
   ]
  },
  {
   "cell_type": "code",
   "execution_count": 31,
   "metadata": {},
   "outputs": [
    {
     "output_type": "execute_result",
     "data": {
      "text/plain": "array([12, 13, 14, 15, 16, 17, 18, 19, 20])"
     },
     "metadata": {},
     "execution_count": 31
    }
   ],
   "source": [
    "x5 = x4[:,1]\n",
    "x5"
   ]
  },
  {
   "cell_type": "code",
   "execution_count": 32,
   "metadata": {},
   "outputs": [
    {
     "output_type": "stream",
     "name": "stdout",
     "text": "[[[1 1 1]\n  [2 2 2]\n  [3 3 3]]]\n"
    }
   ],
   "source": [
    "array = np.array([[[1,1,1],[2,2,2],[3,3,3,]]])\n",
    "print(array)"
   ]
  },
  {
   "cell_type": "code",
   "execution_count": 33,
   "metadata": {},
   "outputs": [
    {
     "output_type": "stream",
     "name": "stdout",
     "text": "[[1 1 1]\n [2 2 2]\n [3 3 3]]\n"
    }
   ],
   "source": [
    "array = np.squeeze(array)\n",
    "print(array)"
   ]
  }
 ],
 "metadata": {
  "language_info": {
   "codemirror_mode": {
    "name": "ipython",
    "version": 3
   },
   "file_extension": ".py",
   "mimetype": "text/x-python",
   "name": "python",
   "nbconvert_exporter": "python",
   "pygments_lexer": "ipython3",
   "version": "3.7.7-final"
  },
  "orig_nbformat": 2,
  "kernelspec": {
   "name": "python37764bitqaconda73805403334e42bda130ee883bd437e9",
   "display_name": "Python 3.7.7 64-bit ('QA': conda)"
  }
 },
 "nbformat": 4,
 "nbformat_minor": 2
}